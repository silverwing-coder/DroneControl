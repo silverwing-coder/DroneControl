{
  "nbformat": 4,
  "nbformat_minor": 0,
  "metadata": {
    "colab": {
      "provenance": [],
      "authorship_tag": "ABX9TyMaXjOe1gkMI9Z2L4nhKlHE",
      "include_colab_link": true
    },
    "kernelspec": {
      "name": "python3",
      "display_name": "Python 3"
    },
    "language_info": {
      "name": "python"
    }
  },
  "cells": [
    {
      "cell_type": "markdown",
      "metadata": {
        "id": "view-in-github",
        "colab_type": "text"
      },
      "source": [
        "<a href=\"https://colab.research.google.com/github/silverwing-coder/DroneControl/blob/master/TelloControlBasic.ipynb\" target=\"_parent\"><img src=\"https://colab.research.google.com/assets/colab-badge.svg\" alt=\"Open In Colab\"/></a>"
      ]
    },
    {
      "cell_type": "markdown",
      "source": [
        "<h3>(BasicControl) Tello Control Source Codes</h3>\n",
        "\n",
        "- This codes must be copied and executed in your local machine since it requires communication between your computer and DJI tello through WiFi."
      ],
      "metadata": {
        "id": "6XqLIEocbVku"
      }
    },
    {
      "cell_type": "markdown",
      "source": [
        "<u><h5>Basic Movement Test</h4></u>\n"
      ],
      "metadata": {
        "id": "4_cnASxojhga"
      }
    },
    {
      "cell_type": "code",
      "execution_count": null,
      "metadata": {
        "id": "3wN2qa9AaqLV"
      },
      "outputs": [],
      "source": [
        "# Dependency: djitellopy\n",
        "\n",
        "from djitellopy import Tello\n",
        "from time import sleep\n",
        "\n",
        "# Create a Drone object for operation\n",
        "drone = Tello()\n",
        "drone.connect()\n",
        "print(drone.get_battery())\n",
        "\n",
        "drone.takeoff()\n",
        "drone.move_up(30)\n",
        "sleep(3)\n",
        "drone.move_down(10)\n",
        "sleep(3)\n",
        "\n",
        "drone.flip_forward()\n",
        "sleep(3)\n",
        "drone.flip_back()\n",
        "sleep(3)\n",
        "\n",
        "# drone.move_forward(30)\n",
        "# sleep(3)\n",
        "# drone.move_right(30)\n",
        "\n",
        "print(drone.get_barometer())\n",
        "print(drone.get_flight_time())\n",
        "drone.land()"
      ]
    },
    {
      "cell_type": "markdown",
      "source": [
        "<u><h5>Control By Keyboard</h4></u>\n",
        "\n",
        "- In order for the program to listem keyboard input 'pygame' module is employed.\n",
        "- 'pygame' window has to be in <u>\"active\"</u> status to input key values."
      ],
      "metadata": {
        "id": "luCTeU8yhf-l"
      }
    },
    {
      "cell_type": "code",
      "source": [
        "### File name keyControlModule.py\n",
        "### Returns keyboard input\n",
        "import pygame\n",
        "\n",
        "def init():\n",
        "    pygame.init()\n",
        "    window = pygame.display.set_mode((300, 200))\n",
        "\n",
        "# def checkKey(keyName):\n",
        "def getKey(keyName):\n",
        "    ans = False\n",
        "    for event in pygame.event.get():\n",
        "        pass\n",
        "\n",
        "    keyInput = pygame.key.get_pressed()\n",
        "    # print(keyInput)\n",
        "    myKey = getattr(pygame, 'K_{}'.format(keyName))\n",
        "    # print(myKey)\n",
        "\n",
        "    if keyInput[myKey]:\n",
        "        ans = True\n",
        "    pygame.display.update()\n",
        "\n",
        "    return ans"
      ],
      "metadata": {
        "id": "_c5yJraqiqcH"
      },
      "execution_count": null,
      "outputs": []
    },
    {
      "cell_type": "code",
      "source": [
        "from djitellopy import Tello\n",
        "import cv2\n",
        "from time import sleep\n",
        "# \n",
        "import KeyControlModule as kp\n",
        "\n",
        "# Create a Drone object for operation\n",
        "drone = Tello()\n",
        "drone.connect()\n",
        "print(drone.get_battery())\n",
        "\n",
        "# Turn on drone camera\n",
        "drone.streamon()\n",
        "frame = drone.get_frame_read()\n",
        "\n",
        "# drone.takeoff()\n",
        "# drone.move_up(30)\n",
        "# sleep(3)\n",
        "\n",
        "# Start keyPressModule to listen Key press status\n",
        "kp.init()\n",
        "\n",
        "def getKeyboardInput():\n",
        "\n",
        "    img = drone.get_frame_read().frame\n",
        "    cv2.resize(img, (300, 200))\n",
        "    cv2.imshow('DRONE CAMERA', img)\n",
        "\n",
        "    lr_move, fb_move, ud_move, yaw_move = 0, 0, 0, 0\n",
        "    speed = 50\n",
        "\n",
        "    if kp.getKey(\"LEFT\"):\n",
        "        lr_move = -speed\n",
        "    elif kp.getKey(\"RIGHT\"):\n",
        "        lr_move = speed\n",
        "\n",
        "    if kp.getKey(\"UP\"):\n",
        "        fb_move = speed\n",
        "    elif kp.getKey(\"DOWN\"):\n",
        "        fb_move = -speed\n",
        "\n",
        "    if kp.getKey(\"w\"):\n",
        "        ud_move = speed\n",
        "    elif kp.getKey(\"s\"):\n",
        "        ud_move = -speed\n",
        "\n",
        "    if kp.getKey(\"a\"):\n",
        "        yaw_move = speed\n",
        "    elif kp.getKey(\"d\"):\n",
        "        yaw_move = -speed\n",
        "\n",
        "    return [lr_move, fb_move, ud_move, yaw_move]\n",
        "\n",
        "if __name__ == '__main__':\n",
        "    while True:\n",
        "        vals = getKeyboardInput()\n",
        "        drone.send_rc_control(vals[0], vals[1], vals[2], vals[3])\n",
        "        sleep(0.05)\n",
        "\n",
        "        if cv2.waitKey(1) & 0xFF == ord('t'):\n",
        "            drone.takeoff()\n",
        "        if cv2.waitKey(1) & 0xFF == ord('l'):\n",
        "            drone.land()\n",
        "\n",
        "        if cv2.waitKey(1) & 0xFF == ord('q'):\n",
        "            break\n",
        "\n",
        "    drone.land()\n",
        "    exit(0)\n",
        "\n"
      ],
      "metadata": {
        "id": "_0IP6hhyiJqt"
      },
      "execution_count": null,
      "outputs": []
    }
  ]
}